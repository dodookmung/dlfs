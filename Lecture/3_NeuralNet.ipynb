{
 "cells": [
  {
   "cell_type": "markdown",
   "metadata": {},
   "source": [
    "# Chapter 3 신경망"
   ]
  },
  {
   "cell_type": "markdown",
   "metadata": {},
   "source": [
    "퍼센트론은 복잡한 함수도 표현할 수 있지만, 가중치를 사람이 수동으로 설정해야 한다는 단점이 있습니다.<br/>\n",
    "\n",
    "<br/>\n",
    "신경망은 이를 해결하기 위해 가중치 매개변수의 적절한 값을 \"데이터\"로부터 자동으로 학습합니다."
   ]
  }
 ],
 "metadata": {
  "language_info": {
   "name": "python"
  }
 },
 "nbformat": 4,
 "nbformat_minor": 2
}
