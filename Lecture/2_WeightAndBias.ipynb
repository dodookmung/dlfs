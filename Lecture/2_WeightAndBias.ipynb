{
 "cells": [
  {
   "cell_type": "markdown",
   "metadata": {},
   "source": [
    "# 가중치와 편향 이해"
   ]
  },
  {
   "cell_type": "code",
   "execution_count": 1,
   "metadata": {},
   "outputs": [],
   "source": [
    "# [코드 1.1] 도입 이전 AND 게이트\n",
    "def AND(x1, x2):\n",
    "    w1, w2, theta = 0.5, 0.5, 0.7\n",
    "    tmp = x1*w1 + x2*w2\n",
    "    if tmp <= theta:\n",
    "        return 0\n",
    "    elif tmp > theta:\n",
    "        return 1"
   ]
  },
  {
   "cell_type": "code",
   "execution_count": 2,
   "metadata": {},
   "outputs": [],
   "source": [
    "# [코드 1.2] 가중치와 편향을 도입한 AND 게이트\n",
    "import numpy as np\n",
    "\n",
    "def AND(x1, x2):\n",
    "    x = np.array([x1, x2])\n",
    "    w = np.array([0.5, 0.5])\n",
    "    b = -0.7\n",
    "    tmp = np.sum(w*x) + b\n",
    "    if tmp <= 0:\n",
    "        return 0\n",
    "    else:\n",
    "        return 1"
   ]
  },
  {
   "cell_type": "markdown",
   "metadata": {},
   "source": [
    "### 도입 이전 AND 게이트\n",
    "$\n",
    "y = \n",
    "\\begin{cases}\n",
    "0\\;(w_1x_1 + w_2x_2\\le\\theta) \\\\\n",
    "1\\;(w_1x_1 + w_2x_2>\\theta) \\\\\n",
    "\\end{cases}\n",
    "$\n",
    "\n",
    "### 가중치와 편향을 도입한 AND 게이트\n",
    "$\n",
    "y = \n",
    "\\begin{cases}\n",
    "0\\;(b + w_1x_1 + w_2x_2\\le0) \\\\\n",
    "1\\;(b + w_1x_1 + w_2x_2>0) \\\\\n",
    "\\end{cases}\n",
    "$\n",
    "\n",
    "$w$ = weight\n",
    "\n",
    "$b$ = bias\n",
    "\n",
    "\n",
    "<br/>\n",
    "<br/>\n",
    "\n",
    "여기에서 -$\\theta$가 편향 $b$로 치환되었습니다. [코드 1.1]에서 구현한 AND의 theta가 -$b$가 되었습니다.<br/>\n",
    "그리고 편향(bias)은 가중치 $w_1, w_2$와 기능이 다르다는 사실에 주의합시다. <br/>\n",
    "<br/>\n",
    "가중치(weight)인 $w_1과 w_2$는 각 입력 신호가 결과에 주는 영향력(중요도)을 조절하는 매개변수고,<br/>\n",
    "편향(bias)은 뉴런이 얼마나 쉽게 활성화(결과를 1로 출력)하느냐를 조정하는 매개변수입니다.<br/>\n",
    "<br/>\n",
    "예를 들어 편향(bias) $b$가 -0.1이면 각 입력 신호에 가중치(weight)를 곱한 값들의 합이 0.1을 초과할 때만 뉴런이 활성화 됩니다.<br/>\n",
    "반면 $b$가 -20.0이라면 각 입력 신호의 가중치(weight)를 곡한 값들의 합이 20.0을 넘지 않는다면 뉴런은 활성화 되지 않습니다."
   ]
  },
  {
   "cell_type": "code",
   "execution_count": null,
   "metadata": {},
   "outputs": [],
   "source": []
  }
 ],
 "metadata": {
  "kernelspec": {
   "display_name": "Python 3",
   "language": "python",
   "name": "python3"
  },
  "language_info": {
   "codemirror_mode": {
    "name": "ipython",
    "version": 3
   },
   "file_extension": ".py",
   "mimetype": "text/x-python",
   "name": "python",
   "nbconvert_exporter": "python",
   "pygments_lexer": "ipython3",
   "version": "3.11.4"
  }
 },
 "nbformat": 4,
 "nbformat_minor": 2
}
