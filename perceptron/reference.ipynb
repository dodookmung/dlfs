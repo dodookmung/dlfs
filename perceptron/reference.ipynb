{
 "cells": [
  {
   "cell_type": "markdown",
   "metadata": {},
   "source": [
    "# 책에 기재된 원본 파이썬 예제 코드"
   ]
  },
  {
   "cell_type": "markdown",
   "metadata": {},
   "source": [
    "## 퍼셉트론\n",
    "\n",
    "$\n",
    "y = \n",
    "\\begin{cases}\n",
    "0\\;(w_1x_1 + w_2x_2\\le\\theta) \\\\\n",
    "1\\;(w_1x_1 + w_2x_2>\\theta) \\\\\n",
    "\\end{cases}\n",
    "$\n",
    "\n",
    "$w$ = weight\n",
    "\n",
    "[식 2.1]"
   ]
  },
  {
   "cell_type": "code",
   "execution_count": 13,
   "metadata": {},
   "outputs": [],
   "source": [
    "def AND(x1, x2):\n",
    "    w1, w2, theta = 0.5, 0.5, 0.7\n",
    "    tmp = x1*w1 + x2*w2\n",
    "    if tmp <= theta:\n",
    "        return 0\n",
    "    elif tmp > theta:\n",
    "        return 1"
   ]
  },
  {
   "cell_type": "code",
   "execution_count": 14,
   "metadata": {},
   "outputs": [
    {
     "name": "stdout",
     "output_type": "stream",
     "text": [
      "0\n",
      "0\n",
      "0\n",
      "1\n"
     ]
    }
   ],
   "source": [
    "print( AND(0, 0) )\n",
    "print( AND(1, 0) )\n",
    "print( AND(0, 1) )\n",
    "print( AND(1, 1) )"
   ]
  },
  {
   "cell_type": "markdown",
   "metadata": {},
   "source": [
    "## 가중치와 편향 도입\n",
    "\n",
    "$\n",
    "y = \n",
    "\\begin{cases}\n",
    "0\\;(b + w_1x_1 + w_2x_2\\le0) \\\\\n",
    "1\\;(b + w_1x_1 + w_2x_2>0) \\\\\n",
    "\\end{cases}\n",
    "$\n",
    "\n",
    "$b$ = bias\n",
    "\n",
    "[식 2.2]"
   ]
  },
  {
   "cell_type": "markdown",
   "metadata": {},
   "source": [
    "[식 2.1]과 [식 2.2]는 기호 표기만 바꿨을 뿐, 그 의미는 같습니다. 여기에서 $b$를 편향(bias)이라 하며 $w_1$과 $w_2$는 그대로 가중치(weight)입니다. <br/>[식 2.2] 관점에서 해석하면, 퍼셉트론은 입력 신호에 weight를 곱한 값과 bias를 합하여, 그 값이 0을 넘으면 1을 출력하고 그렇지 않으면 0을 출력합니다."
   ]
  },
  {
   "cell_type": "code",
   "execution_count": 15,
   "metadata": {},
   "outputs": [],
   "source": [
    "import numpy as np\n",
    "x = np.array([0, 1])     # 입력\n",
    "w = np.array([0.5, 0.5]) # 가중치\n",
    "b = -0.7                 # 편향"
   ]
  },
  {
   "cell_type": "code",
   "execution_count": 16,
   "metadata": {},
   "outputs": [
    {
     "data": {
      "text/plain": [
       "array([0. , 0.5])"
      ]
     },
     "execution_count": 16,
     "metadata": {},
     "output_type": "execute_result"
    }
   ],
   "source": [
    "w*x"
   ]
  },
  {
   "cell_type": "code",
   "execution_count": 17,
   "metadata": {},
   "outputs": [
    {
     "data": {
      "text/plain": [
       "0.5"
      ]
     },
     "execution_count": 17,
     "metadata": {},
     "output_type": "execute_result"
    }
   ],
   "source": [
    "np.sum(w*x)"
   ]
  },
  {
   "cell_type": "code",
   "execution_count": 18,
   "metadata": {},
   "outputs": [
    {
     "data": {
      "text/plain": [
       "-0.19999999999999996"
      ]
     },
     "execution_count": 18,
     "metadata": {},
     "output_type": "execute_result"
    }
   ],
   "source": [
    "np.sum(w*x) + b     #대략 0.2 (부동소수점 수에 의한 연산 오차)"
   ]
  },
  {
   "cell_type": "markdown",
   "metadata": {},
   "source": [
    "## 가중치와 편향 구현하기\n",
    "\n",
    "'가중치와 편향을 도입'한 AND 게이트는 다음과 같이 구현할 수 있습니다."
   ]
  },
  {
   "cell_type": "code",
   "execution_count": 19,
   "metadata": {},
   "outputs": [],
   "source": [
    "# 가중치와 편향을 도입한 AND 게이트\n",
    "def AND(x1, x2):\n",
    "    x = np.array([x1, x2])\n",
    "    w = np.array([0.5, 0.5])\n",
    "    b = -0.7\n",
    "    tmp = np.sum(w*x) + b\n",
    "    if tmp <= 0:\n",
    "        return 0\n",
    "    else:\n",
    "        return 1\n",
    "\n",
    "def NAND(x1, x2):\n",
    "    x = np.array([x1, x2])\n",
    "    w = np.array([-0.5, -0.5])  # AND와는 가중치(w와 b)만 다르다\n",
    "    b = 0.7\n",
    "    tmp = np.sum(w*x) + b\n",
    "    if tmp <= 0:\n",
    "        return 0\n",
    "    else:\n",
    "        return 1\n",
    "    \n",
    "def OR(x1, x2):\n",
    "    x = np.array([x1, x2])\n",
    "    w = np.array([0.5, 0.5])  # AND와는 가중치(w와 b)만 다르다\n",
    "    b = -0.2\n",
    "    tmp = np.sum(w*x) + b\n",
    "    if tmp <= 0:\n",
    "        return 0\n",
    "    else:\n",
    "        return 1"
   ]
  },
  {
   "cell_type": "code",
   "execution_count": 20,
   "metadata": {},
   "outputs": [
    {
     "name": "stdout",
     "output_type": "stream",
     "text": [
      "0\n",
      "0\n",
      "0\n",
      "1\n",
      "\n",
      "1\n",
      "1\n",
      "1\n",
      "0\n",
      "\n",
      "0\n",
      "1\n",
      "1\n",
      "1\n"
     ]
    }
   ],
   "source": [
    "print( AND(0, 0) )\n",
    "print( AND(1, 0) )\n",
    "print( AND(0, 1) )\n",
    "print( AND(1, 1) )\n",
    "print()\n",
    "\n",
    "print( NAND(0, 0) )\n",
    "print( NAND(1, 0) )\n",
    "print( NAND(0, 1) )\n",
    "print( NAND(1, 1) )\n",
    "print()\n",
    "\n",
    "print( OR(0, 0) )\n",
    "print( OR(1, 0) )\n",
    "print( OR(0, 1) )\n",
    "print( OR(1, 1) )\n"
   ]
  },
  {
   "cell_type": "markdown",
   "metadata": {},
   "source": [
    "## 다층 퍼셉트론"
   ]
  },
  {
   "cell_type": "code",
   "execution_count": 21,
   "metadata": {},
   "outputs": [],
   "source": [
    "def XOR(x1, x2):\n",
    "    s1 = NAND(x1, x2)\n",
    "    s2 = OR(x1, x2)\n",
    "    y = AND(s1, s2)\n",
    "    return y"
   ]
  },
  {
   "cell_type": "code",
   "execution_count": 22,
   "metadata": {},
   "outputs": [
    {
     "name": "stdout",
     "output_type": "stream",
     "text": [
      "0\n",
      "1\n",
      "1\n",
      "0\n"
     ]
    }
   ],
   "source": [
    "print( XOR(0, 0) )\n",
    "print( XOR(1, 0) )\n",
    "print( XOR(0, 1) )\n",
    "print( XOR(1, 1) )"
   ]
  }
 ],
 "metadata": {
  "kernelspec": {
   "display_name": "Python 3",
   "language": "python",
   "name": "python3"
  },
  "language_info": {
   "codemirror_mode": {
    "name": "ipython",
    "version": 3
   },
   "file_extension": ".py",
   "mimetype": "text/x-python",
   "name": "python",
   "nbconvert_exporter": "python",
   "pygments_lexer": "ipython3",
   "version": "3.11.4"
  }
 },
 "nbformat": 4,
 "nbformat_minor": 2
}
